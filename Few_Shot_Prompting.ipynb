{
  "nbformat": 4,
  "nbformat_minor": 0,
  "metadata": {
    "colab": {
      "provenance": [],
      "include_colab_link": true
    },
    "kernelspec": {
      "name": "python3",
      "display_name": "Python 3"
    },
    "language_info": {
      "name": "python"
    }
  },
  "cells": [
    {
      "cell_type": "markdown",
      "metadata": {
        "id": "view-in-github",
        "colab_type": "text"
      },
      "source": [
        "<a href=\"https://colab.research.google.com/github/gitmystuff/INFO4080/blob/main/Few_Shot_Prompting.ipynb\" target=\"_parent\"><img src=\"https://colab.research.google.com/assets/colab-badge.svg\" alt=\"Open In Colab\"/></a>"
      ]
    },
    {
      "cell_type": "markdown",
      "source": [
        "# Few Shot Prompting Strategy"
      ],
      "metadata": {
        "id": "CkDnJYos2HCw"
      }
    },
    {
      "cell_type": "markdown",
      "source": [
        "```python\n",
        "import openai\n",
        "\n",
        "# Set your OpenAI API key\n",
        "openai.api_key = \"YOUR_API_KEY\"\n",
        "\n",
        "# Define the prompt with few-shot examples\n",
        "prompt = \"\"\"\n",
        "## Task: Generate creative names for a new coffee shop.\n",
        "\n",
        "**Examples:**\n",
        "\n",
        "* **Coffee Shop Name:** The Daily Grind\n",
        "* **Description:**  A bustling cafe with a focus on quick service and strong coffee, perfect for busy commuters.\n",
        "\n",
        "* **Coffee Shop Name:**  Cloud Nine Coffee\n",
        "* **Description:** A cozy and relaxing space with comfortable seating and a wide selection of specialty coffee drinks.\n",
        "\n",
        "* **Coffee Shop Name:**  The Coffee Lab\n",
        "* **Description:** A modern and minimalist cafe with an emphasis on experimental brewing methods and single-origin beans.\n",
        "\n",
        "* **Coffee Shop Name:**  [Your Coffee Shop Name Here]\n",
        "* **Description:**  A [Your Coffee Shop Description Here]\n",
        "\"\"\"\n",
        "\n",
        "# Replace the placeholders with your coffee shop description\n",
        "coffee_shop_description = \"A rustic and charming cafe with a focus on locally sourced ingredients and a warm, inviting atmosphere.\"\n",
        "prompt = prompt.replace(\"[Your Coffee Shop Description Here]\", coffee_shop_description)\n",
        "\n",
        "# Generate the completion\n",
        "response = openai.Completion.create(\n",
        "  model=\"text-davinci-003\",\n",
        "  prompt=prompt,\n",
        "  temperature=0.7,\n",
        "  max_tokens=60,\n",
        "  top_p=1.0,\n",
        "  frequency_penalty=0.0,\n",
        "  presence_penalty=0.0\n",
        ")\n",
        "\n",
        "# Extract and print the generated coffee shop name\n",
        "generated_name = response.choices.text.strip()\n",
        "print(f\"Generated Coffee Shop Name: {generated_name}\")\n",
        "```\n",
        "\n",
        "**To use this in a Jupyter Notebook:**\n",
        "\n",
        "1. **Install the OpenAI library:** If you haven't already, install the OpenAI Python library using `pip install openai`.\n",
        "2. **Create a new Jupyter Notebook:** Open a new notebook in your preferred environment.\n",
        "3. **Copy and paste the code:** Paste the code above into a code cell in your notebook.\n",
        "4. **Replace `YOUR_API_KEY`:**  Replace  `\"YOUR_API_KEY\"` with your actual OpenAI API key.\n",
        "5. **Update the coffee shop description:**  Modify the  `coffee_shop_description`  variable with your own description.\n",
        "6. **Run the cell:** Execute the code cell to generate a coffee shop name.\n",
        "\n",
        "This will send the prompt to the OpenAI API and print the generated coffee shop name in the notebook's output."
      ],
      "metadata": {
        "id": "aAo2GRk52GyP"
      }
    },
    {
      "cell_type": "markdown",
      "source": [
        "Asking AI for a better example of a few-shot prompting strategy.\n",
        "```python\n",
        "import openai\n",
        "\n",
        "# Set your OpenAI API key\n",
        "openai.api_key = \"YOUR_API_KEY\"\n",
        "\n",
        "# Define the few-shot examples\n",
        "few_shot_examples = [\n",
        "    {\"name\": \"The Daily Grind\", \"description\": \"A bustling cafe with a focus on quick service and strong coffee, perfect for busy commuters.\"},\n",
        "    {\"name\": \"Cloud Nine Coffee\", \"description\": \"A cozy and relaxing space with comfortable seating and a wide selection of specialty coffee drinks.\"},\n",
        "    {\"name\": \"The Coffee Lab\", \"description\": \"A modern and minimalist cafe with an emphasis on experimental brewing methods and single-origin beans.\"}\n",
        "]\n",
        "\n",
        "# Construct the prompt with the few-shot examples\n",
        "prompt = \"## Task: Generate creative names for a new coffee shop.\\n\\n\"\n",
        "for example in few_shot_examples:\n",
        "    prompt += f\"* **Coffee Shop Name:** {example['name']}\\n\"\n",
        "    prompt += f\"* **Description:** {example['description']}\\n\\n\"\n",
        "\n",
        "# Add the user's coffee shop description\n",
        "coffee_shop_description = \"A rustic and charming cafe with a focus on locally sourced ingredients and a warm, inviting atmosphere.\"\n",
        "prompt += f\"* **Coffee Shop Name:**  [Generated Name]\\n\"\n",
        "prompt += f\"* **Description:** {coffee_shop_description}\"\n",
        "\n",
        "# Generate the completion\n",
        "response = openai.Completion.create(\n",
        "  model=\"text-davinci-003\",\n",
        "  prompt=prompt,\n",
        "  temperature=0.7,\n",
        "  max_tokens=60,\n",
        "  top_p=1.0,\n",
        "  frequency_penalty=0.0,\n",
        "  presence_penalty=0.0\n",
        ")\n",
        "\n",
        "# Extract and print the generated coffee shop name\n",
        "generated_name = response.choices.text.strip()\n",
        "print(f\"Generated Coffee Shop Name: {generated_name}\")\n",
        "```\n",
        "\n",
        "**Changes made:**\n",
        "\n",
        "* **Explicit Few-Shot Examples:**  The few-shot examples are now stored in a list of dictionaries (`few_shot_examples`) to make them more prominent and easier to manage.\n",
        "* **Dynamic Prompt Construction:**  The prompt is constructed dynamically using a loop to iterate through the `few_shot_examples` list. This makes it easier to add, remove, or modify examples.\n",
        "* **Clearer Structure:** The code is organized to clearly separate the few-shot examples, prompt construction, API call, and output processing.\n",
        "\n",
        "This improved version highlights the few-shot prompting strategy more effectively and makes the code more modular and maintainable."
      ],
      "metadata": {
        "id": "25mkbDkU2g4x"
      }
    },
    {
      "cell_type": "code",
      "execution_count": null,
      "metadata": {
        "id": "DPmLfian2B0A"
      },
      "outputs": [],
      "source": [
        "# Example: reuse your existing OpenAI setup\n",
        "from openai import OpenAI\n",
        "\n",
        "# Point to the local server\n",
        "client = OpenAI(base_url=\"http://localhost:1234/v1\", api_key=\"lm-studio\")\n",
        "\n",
        "completion = client.chat.completions.create(\n",
        "  model=\"model is already running in LMStudio\",\n",
        "  messages=[\n",
        "    {\"role\": \"system\", \"content\": \"Always answer in rhymes.\"},\n",
        "    {\"role\": \"user\", \"content\": \"Introduce yourself.\"}\n",
        "  ],\n",
        "  temperature=0.7,\n",
        ")\n",
        "\n",
        "print(completion.choices[0].message)"
      ]
    },
    {
      "cell_type": "code",
      "source": [
        "import openai\n",
        "\n",
        "# Point to the local server\n",
        "client = openai.OpenAI(base_url=\"http://localhost:1234/v1\", api_key=\"lm-studio\")\n",
        "\n",
        "# Define the few-shot examples\n",
        "few_shot_examples = [\n",
        "    {\"name\": \"The Daily Grind\", \"description\": \"A bustling cafe with a focus on quick service and strong coffee, perfect for busy commuters.\"},\n",
        "    {\"name\": \"Cloud Nine Coffee\", \"description\": \"A cozy and relaxing space with comfortable seating and a wide selection of specialty coffee drinks.\"},\n",
        "    {\"name\": \"The Coffee Lab\", \"description\": \"A modern and minimalist cafe with an emphasis on experimental brewing methods and single-origin beans.\"}\n",
        "]\n",
        "\n",
        "# Construct the prompt with the few-shot examples\n",
        "prompt = \"## Task: Generate creative names for a new coffee shop.\\n\\n\"\n",
        "for example in few_shot_examples:\n",
        "    prompt += f\"* **Coffee Shop Name:** {example['name']}\\n\"\n",
        "    prompt += f\"* **Description:** {example['description']}\\n\\n\"\n",
        "\n",
        "# Add the user's coffee shop description\n",
        "coffee_shop_description = \"A rustic and charming cafe with a focus on locally sourced ingredients and a warm, inviting atmosphere.\"\n",
        "prompt += f\"* **Coffee Shop Name:**  [Generated Name]\\n\"\n",
        "prompt += f\"* **Description:** {coffee_shop_description}\"\n",
        "\n",
        "# Generate the completion\n",
        "response = client.chat.completions.create(\n",
        "  model=\"TheBloke/Mistral-7B-Instruct-v0.2-GGUF\",\n",
        "  messages=[ # messages=[prompt]\n",
        "    {\"role\": \"system\", \"content\": \"You are an expert in coffee shop startups.\"},\n",
        "    {\"role\": \"user\", \"content\": prompt}\n",
        "  ],\n",
        "  temperature=0.7, # creativity\n",
        "  max_tokens=120, # length\n",
        "  top_p=1.0, # fine-tune the balance between diversity and focus\n",
        "  frequency_penalty=0.0, # control the level of repetition\n",
        "  presence_penalty=0.0 #  influence the model's tendency to explore new topics\n",
        ")\n",
        "\n",
        "# Extract and print the generated coffee shop name\n",
        "print(\"Prompt:\")\n",
        "print(prompt)\n",
        "print()\n",
        "print(\"Message: \")\n",
        "message = response.choices[0].message\n",
        "print(message)\n",
        "print()\n",
        "print(f\"Generated Coffee Shop Name: {message.content}\")"
      ],
      "metadata": {
        "id": "gsIazgJZ3Cb7"
      },
      "execution_count": null,
      "outputs": []
    }
  ]
}